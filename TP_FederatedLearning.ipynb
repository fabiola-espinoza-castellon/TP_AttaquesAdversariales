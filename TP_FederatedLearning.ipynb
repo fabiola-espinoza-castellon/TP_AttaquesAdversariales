{
 "cells": [
  {
   "cell_type": "markdown",
   "metadata": {},
   "source": [
    "# Apprentissage fédéré "
   ]
  },
  {
   "cell_type": "markdown",
   "metadata": {},
   "source": [
    "## Objectifs\n",
    "\n",
    "Nous allons implémenter l'algorithme FedAvg qui a été proposer par [1] et qui a formaliser le concept d'apprentissage fédéré. Nous allons ensuite voir quels effets ont certains paramètres de l'algorithme.\n",
    "\n",
    "Par la suite, nous allons simuler un type d'attaque : les attaques byzantines. Il s'agira de voir dans quelle mesure ces attaques dégradent les modèles."
   ]
  },
  {
   "cell_type": "markdown",
   "metadata": {},
   "source": [
    "## Bibliographie\n",
    "\n",
    "[1](https://proceedings.mlr.press/v54/mcmahan17a.html) Brendan McMahan, H., Moore, E., Ramage, D., Hampson, S., &#38; Agüera y Arcas, B. (2017). Communication-efficient learning of deep networks from decentralized data. <i>Proceedings of the 20th International Conference on Artificial Intelligence and Statistics, AISTATS 2017</i>, <i>54</i>."
   ]
  },
  {
   "cell_type": "markdown",
   "metadata": {},
   "source": [
    "## Librairies python"
   ]
  },
  {
   "cell_type": "code",
   "execution_count": 1,
   "metadata": {},
   "outputs": [],
   "source": [
    "import torch\n",
    "import torch.nn as nn\n",
    "import torch.nn.functional as F\n",
    "import torchvision.datasets as datasets\n",
    "import torchvision.transforms as transforms\n",
    "import torch.optim as optim\n",
    "\n",
    "import numpy as np\n",
    "import matplotlib.pyplot as plt\n",
    "from sklearn.model_selection import KFold\n",
    "import random\n",
    "import time"
   ]
  },
  {
   "cell_type": "markdown",
   "metadata": {},
   "source": [
    "## Données\n",
    "\n",
    "Pour entrainer nos modèles (et les attaquer) nous allons utiliser la base MNIST. Il s’agit d’une base de données de chiffres de 0 à 9 écrits à la main qui est devenue un test standard notamment pour constituer des benchmarks.\n",
    "Nous allons procéder à une analyse rapide de cette base.\n",
    "\n",
    "Les données sont séparées en deux sets : un set d’entraînement qui nous servira à produire des modèles et un set de test qui servira à connaître les performances des modèles obtenus.\n",
    "\n",
    "Vous pouvez accéder aux images et aux labels grâce aux attributs `.data` et `.targets` respectivement."
   ]
  },
  {
   "cell_type": "code",
   "execution_count": 2,
   "metadata": {},
   "outputs": [
    {
     "name": "stdout",
     "output_type": "stream",
     "text": [
      "Downloading http://yann.lecun.com/exdb/mnist/train-images-idx3-ubyte.gz to ./data\\MNIST\\raw\\train-images-idx3-ubyte.gz\n"
     ]
    },
    {
     "data": {
      "application/vnd.jupyter.widget-view+json": {
       "model_id": "970dccfdafc0464e9897e0f30435c1eb",
       "version_major": 2,
       "version_minor": 0
      },
      "text/plain": [
       "HBox(children=(FloatProgress(value=1.0, bar_style='info', max=1.0), HTML(value='')))"
      ]
     },
     "metadata": {},
     "output_type": "display_data"
    },
    {
     "name": "stdout",
     "output_type": "stream",
     "text": [
      "Extracting ./data\\MNIST\\raw\\train-images-idx3-ubyte.gz to ./data\\MNIST\\raw\n",
      "Downloading http://yann.lecun.com/exdb/mnist/train-labels-idx1-ubyte.gz to ./data\\MNIST\\raw\\train-labels-idx1-ubyte.gz\n"
     ]
    },
    {
     "data": {
      "application/vnd.jupyter.widget-view+json": {
       "model_id": "98a3c1c669c847dd896710d6ede8b20d",
       "version_major": 2,
       "version_minor": 0
      },
      "text/plain": [
       "HBox(children=(FloatProgress(value=1.0, bar_style='info', max=1.0), HTML(value='')))"
      ]
     },
     "metadata": {},
     "output_type": "display_data"
    },
    {
     "name": "stdout",
     "output_type": "stream",
     "text": [
      "Extracting ./data\\MNIST\\raw\\train-labels-idx1-ubyte.gz to ./data\\MNIST\\raw\n",
      "Downloading http://yann.lecun.com/exdb/mnist/t10k-images-idx3-ubyte.gz to ./data\\MNIST\\raw\\t10k-images-idx3-ubyte.gz\n",
      "\n"
     ]
    },
    {
     "data": {
      "application/vnd.jupyter.widget-view+json": {
       "model_id": "a84e88040b5c453fb0e7bac1c6e856b2",
       "version_major": 2,
       "version_minor": 0
      },
      "text/plain": [
       "HBox(children=(FloatProgress(value=1.0, bar_style='info', max=1.0), HTML(value='')))"
      ]
     },
     "metadata": {},
     "output_type": "display_data"
    },
    {
     "name": "stdout",
     "output_type": "stream",
     "text": [
      "Extracting ./data\\MNIST\\raw\\t10k-images-idx3-ubyte.gz to ./data\\MNIST\\raw\n",
      "Downloading http://yann.lecun.com/exdb/mnist/t10k-labels-idx1-ubyte.gz to ./data\\MNIST\\raw\\t10k-labels-idx1-ubyte.gz\n"
     ]
    },
    {
     "data": {
      "application/vnd.jupyter.widget-view+json": {
       "model_id": "93ec672b3eb147d089b1d63575245eb9",
       "version_major": 2,
       "version_minor": 0
      },
      "text/plain": [
       "HBox(children=(FloatProgress(value=1.0, bar_style='info', max=1.0), HTML(value='')))"
      ]
     },
     "metadata": {},
     "output_type": "display_data"
    },
    {
     "name": "stdout",
     "output_type": "stream",
     "text": [
      "Extracting ./data\\MNIST\\raw\\t10k-labels-idx1-ubyte.gz to ./data\\MNIST\\raw\n",
      "Processing...\n"
     ]
    },
    {
     "name": "stderr",
     "output_type": "stream",
     "text": [
      "C:\\Users\\FE264791\\Anaconda3\\lib\\site-packages\\torchvision\\datasets\\mnist.py:480: UserWarning: The given NumPy array is not writeable, and PyTorch does not support non-writeable tensors. This means you can write to the underlying (supposedly non-writeable) NumPy array using the tensor. You may want to copy the array to protect its data or make it writeable before converting it to a tensor. This type of warning will be suppressed for the rest of this program. (Triggered internally at  ..\\torch\\csrc\\utils\\tensor_numpy.cpp:141.)\n",
      "  return torch.from_numpy(parsed.astype(m[2], copy=False)).view(*s)\n"
     ]
    },
    {
     "name": "stdout",
     "output_type": "stream",
     "text": [
      "Done!\n"
     ]
    }
   ],
   "source": [
    "# MNIST : charger les données\n",
    "# //!\\\\ il faut créer un dossier data dans le répertoire contenant ce notebook pour pouvoir télécharger les données\n",
    "mnist_train = datasets.MNIST('./data', train=True, download=True, transform=transforms.Compose([transforms.ToTensor(),]))\n",
    "mnist_test = datasets.MNIST('./data', train=False, download=True, transform=transforms.Compose([transforms.ToTensor(),]))"
   ]
  },
  {
   "cell_type": "markdown",
   "metadata": {},
   "source": [
    "## Apprentissage fédéré\n",
    "\n",
    "Nous nous plaçons maintenant dans un contexte fédéré. Pour simuler cela, nous allons diviser les données en $n$ clients grâce à la fonction `KFold`. Cette fonction nous permettra de séparer les indices des données en $n$ groupes (splits) qui correspondront aux clients. Nous garderons ces indices dans un dictionnaire où les clés seront les id des clients et les valeurs les indices des données appartenant au client corespondant.\n",
    "\n",
    "Vous pouvez prendre $n=100$"
   ]
  },
  {
   "cell_type": "code",
   "execution_count": 3,
   "metadata": {},
   "outputs": [
    {
     "name": "stdout",
     "output_type": "stream",
     "text": [
      "Dataset du client 0: entraînement 600 \n",
      "Dataset du client 1: entraînement 600 \n",
      "Dataset du client 2: entraînement 600 \n",
      "Dataset du client 3: entraînement 600 \n",
      "Dataset du client 4: entraînement 600 \n",
      "Dataset du client 5: entraînement 600 \n",
      "Dataset du client 6: entraînement 600 \n",
      "Dataset du client 7: entraînement 600 \n",
      "Dataset du client 8: entraînement 600 \n",
      "Dataset du client 9: entraînement 600 \n",
      "Dataset du client 10: entraînement 600 \n",
      "Dataset du client 11: entraînement 600 \n",
      "Dataset du client 12: entraînement 600 \n",
      "Dataset du client 13: entraînement 600 \n",
      "Dataset du client 14: entraînement 600 \n",
      "Dataset du client 15: entraînement 600 \n",
      "Dataset du client 16: entraînement 600 \n",
      "Dataset du client 17: entraînement 600 \n",
      "Dataset du client 18: entraînement 600 \n",
      "Dataset du client 19: entraînement 600 \n",
      "Dataset du client 20: entraînement 600 \n",
      "Dataset du client 21: entraînement 600 \n",
      "Dataset du client 22: entraînement 600 \n",
      "Dataset du client 23: entraînement 600 \n",
      "Dataset du client 24: entraînement 600 \n",
      "Dataset du client 25: entraînement 600 \n",
      "Dataset du client 26: entraînement 600 \n",
      "Dataset du client 27: entraînement 600 \n",
      "Dataset du client 28: entraînement 600 \n",
      "Dataset du client 29: entraînement 600 \n",
      "Dataset du client 30: entraînement 600 \n",
      "Dataset du client 31: entraînement 600 \n",
      "Dataset du client 32: entraînement 600 \n",
      "Dataset du client 33: entraînement 600 \n",
      "Dataset du client 34: entraînement 600 \n",
      "Dataset du client 35: entraînement 600 \n",
      "Dataset du client 36: entraînement 600 \n",
      "Dataset du client 37: entraînement 600 \n",
      "Dataset du client 38: entraînement 600 \n",
      "Dataset du client 39: entraînement 600 \n",
      "Dataset du client 40: entraînement 600 \n",
      "Dataset du client 41: entraînement 600 \n",
      "Dataset du client 42: entraînement 600 \n",
      "Dataset du client 43: entraînement 600 \n",
      "Dataset du client 44: entraînement 600 \n",
      "Dataset du client 45: entraînement 600 \n",
      "Dataset du client 46: entraînement 600 \n",
      "Dataset du client 47: entraînement 600 \n",
      "Dataset du client 48: entraînement 600 \n",
      "Dataset du client 49: entraînement 600 \n",
      "Dataset du client 50: entraînement 600 \n",
      "Dataset du client 51: entraînement 600 \n",
      "Dataset du client 52: entraînement 600 \n",
      "Dataset du client 53: entraînement 600 \n",
      "Dataset du client 54: entraînement 600 \n",
      "Dataset du client 55: entraînement 600 \n",
      "Dataset du client 56: entraînement 600 \n",
      "Dataset du client 57: entraînement 600 \n",
      "Dataset du client 58: entraînement 600 \n",
      "Dataset du client 59: entraînement 600 \n",
      "Dataset du client 60: entraînement 600 \n",
      "Dataset du client 61: entraînement 600 \n",
      "Dataset du client 62: entraînement 600 \n",
      "Dataset du client 63: entraînement 600 \n",
      "Dataset du client 64: entraînement 600 \n",
      "Dataset du client 65: entraînement 600 \n",
      "Dataset du client 66: entraînement 600 \n",
      "Dataset du client 67: entraînement 600 \n",
      "Dataset du client 68: entraînement 600 \n",
      "Dataset du client 69: entraînement 600 \n",
      "Dataset du client 70: entraînement 600 \n",
      "Dataset du client 71: entraînement 600 \n",
      "Dataset du client 72: entraînement 600 \n",
      "Dataset du client 73: entraînement 600 \n",
      "Dataset du client 74: entraînement 600 \n",
      "Dataset du client 75: entraînement 600 \n",
      "Dataset du client 76: entraînement 600 \n",
      "Dataset du client 77: entraînement 600 \n",
      "Dataset du client 78: entraînement 600 \n",
      "Dataset du client 79: entraînement 600 \n",
      "Dataset du client 80: entraînement 600 \n",
      "Dataset du client 81: entraînement 600 \n",
      "Dataset du client 82: entraînement 600 \n",
      "Dataset du client 83: entraînement 600 \n",
      "Dataset du client 84: entraînement 600 \n",
      "Dataset du client 85: entraînement 600 \n",
      "Dataset du client 86: entraînement 600 \n",
      "Dataset du client 87: entraînement 600 \n",
      "Dataset du client 88: entraînement 600 \n",
      "Dataset du client 89: entraînement 600 \n",
      "Dataset du client 90: entraînement 600 \n",
      "Dataset du client 91: entraînement 600 \n",
      "Dataset du client 92: entraînement 600 \n",
      "Dataset du client 93: entraînement 600 \n",
      "Dataset du client 94: entraînement 600 \n",
      "Dataset du client 95: entraînement 600 \n",
      "Dataset du client 96: entraînement 600 \n",
      "Dataset du client 97: entraînement 600 \n",
      "Dataset du client 98: entraînement 600 \n",
      "Dataset du client 99: entraînement 600 \n"
     ]
    }
   ],
   "source": [
    "n = 100\n",
    "clients_train_samples = {}\n",
    "\n",
    "# Données d'entraînement\n",
    "for i, idx in enumerate(KFold(n_splits=n, shuffle=True).split(mnist_train)):\n",
    "    clients_train_samples[i] = idx[1]\n",
    "    \n",
    "for i in range(n):\n",
    "    print(\"Dataset du client {}: entraînement {} \".format(str(i), clients_train_samples[i].shape[0]))"
   ]
  },
  {
   "cell_type": "code",
   "execution_count": 5,
   "metadata": {},
   "outputs": [
    {
     "data": {
      "text/plain": [
       "array([   66,    90,   328,   339,   352,   378,   420,   480,   493,\n",
       "         652,   739,   930,   943,   966,  1011,  1171,  1342,  1413,\n",
       "        1477,  1840,  1932,  2201,  2265,  2290,  2382,  2416,  2517,\n",
       "        2638,  2641,  2656,  2683,  2685,  2842,  3164,  3200,  3270,\n",
       "        3520,  3603,  3696,  3852,  3995,  4365,  4384,  4440,  4493,\n",
       "        4521,  4689,  4775,  5012,  5032,  5076,  5571,  5581,  5730,\n",
       "        5757,  5791,  5912,  6005,  6022,  6024,  6177,  6478,  6576,\n",
       "        6708,  6725,  6867,  6965,  6967,  7071,  7112,  7396,  7587,\n",
       "        7843,  7904,  8052,  8102,  8298,  8301,  8459,  8474,  8479,\n",
       "        8576,  8606,  8733,  8764,  8982,  9026,  9163,  9246,  9285,\n",
       "        9337,  9499,  9565,  9708,  9877, 10010, 10383, 10448, 10523,\n",
       "       10898, 10933, 10943, 10950, 10960, 11217, 11316, 11351, 11395,\n",
       "       11406, 11713, 11891, 11968, 12092, 12283, 12433, 12516, 12564,\n",
       "       12746, 12857, 12865, 13114, 13361, 13525, 13682, 13773, 13886,\n",
       "       14148, 14190, 14283, 14329, 14444, 14578, 14676, 14783, 14798,\n",
       "       14957, 14981, 15177, 15323, 15623, 15761, 15906, 15970, 16053,\n",
       "       16434, 16475, 16568, 16610, 16661, 16747, 16779, 16789, 16800,\n",
       "       17128, 17157, 17175, 17495, 17498, 17499, 17697, 17708, 17988,\n",
       "       18016, 18399, 18526, 18644, 18750, 18830, 18931, 18967, 19154,\n",
       "       19196, 19214, 19370, 19454, 19469, 19486, 19716, 19810, 19931,\n",
       "       19933, 20001, 20178, 20277, 20393, 20515, 20568, 20657, 20658,\n",
       "       20845, 21022, 21155, 21218, 21257, 21272, 21279, 21317, 21577,\n",
       "       21625, 21708, 21885, 22017, 22027, 22113, 22213, 22239, 22334,\n",
       "       22349, 22386, 22455, 22578, 22601, 22741, 22929, 22932, 23019,\n",
       "       23037, 23081, 23099, 23316, 23394, 23405, 23557, 23713, 23800,\n",
       "       23859, 23874, 23892, 24210, 24241, 24258, 24366, 24495, 24588,\n",
       "       24618, 24984, 25006, 25068, 25294, 25442, 25474, 25826, 26449,\n",
       "       26494, 26524, 26548, 26558, 26633, 26671, 26773, 26864, 26879,\n",
       "       27104, 27236, 27262, 27266, 27275, 27366, 27369, 27384, 27410,\n",
       "       27504, 27561, 27626, 27860, 27864, 27884, 28075, 28343, 28458,\n",
       "       28510, 28562, 28589, 28614, 28638, 28840, 28857, 28896, 28961,\n",
       "       28971, 29103, 29257, 29346, 29447, 29610, 29669, 29698, 30086,\n",
       "       30117, 30143, 30176, 30299, 30321, 30654, 30759, 30765, 30789,\n",
       "       30831, 31170, 31218, 31277, 31328, 31527, 31550, 31674, 31870,\n",
       "       31876, 32021, 32049, 32440, 32479, 32509, 32640, 32693, 32897,\n",
       "       32910, 32937, 32955, 33014, 33025, 33198, 33286, 33417, 33448,\n",
       "       33492, 33496, 33601, 33829, 33884, 33913, 33938, 34152, 34294,\n",
       "       34306, 34309, 34370, 34525, 34621, 34714, 34874, 34912, 35006,\n",
       "       35007, 35144, 35248, 35381, 35446, 35580, 35620, 35631, 35640,\n",
       "       35710, 35850, 36149, 36228, 36382, 36398, 36485, 36510, 36573,\n",
       "       36649, 36654, 36870, 36994, 37012, 37190, 37448, 37598, 38041,\n",
       "       38177, 38259, 38260, 38286, 38323, 38501, 38569, 38584, 38741,\n",
       "       38825, 38915, 38976, 38979, 39046, 39495, 39634, 39933, 39944,\n",
       "       40061, 40198, 40222, 40356, 40371, 40439, 40584, 40847, 40996,\n",
       "       41120, 41166, 41220, 41267, 41454, 41605, 41680, 41722, 42183,\n",
       "       42321, 42332, 42550, 42591, 42601, 42726, 42782, 42827, 42833,\n",
       "       42926, 43016, 43060, 43169, 43419, 43587, 43618, 43688, 43694,\n",
       "       43701, 43949, 43978, 44024, 44254, 44273, 44313, 44337, 44386,\n",
       "       44529, 44651, 44657, 44697, 44711, 45010, 45016, 45018, 45142,\n",
       "       45213, 45345, 45762, 45769, 46028, 46058, 46143, 46330, 46429,\n",
       "       46595, 46681, 46685, 46792, 46816, 46859, 46943, 46952, 47027,\n",
       "       47149, 47267, 47523, 47750, 47771, 47868, 47919, 47961, 47977,\n",
       "       48158, 48180, 48222, 48247, 48285, 48319, 48356, 48373, 48419,\n",
       "       48594, 48932, 49052, 49109, 49264, 49300, 49370, 49385, 49421,\n",
       "       49431, 49442, 49523, 49845, 49988, 50047, 50352, 50424, 50436,\n",
       "       50797, 50839, 50983, 51041, 51093, 51099, 51184, 51269, 51328,\n",
       "       51348, 51419, 51461, 51577, 51687, 51736, 51776, 51825, 51864,\n",
       "       52184, 52422, 52512, 52573, 52624, 52633, 53028, 53063, 53073,\n",
       "       53111, 53146, 53305, 53360, 53411, 53443, 53452, 53713, 53727,\n",
       "       53828, 54044, 54204, 54212, 54256, 54362, 54407, 54477, 54796,\n",
       "       54830, 54985, 55013, 55016, 55259, 55289, 55345, 55353, 55431,\n",
       "       55440, 55446, 55545, 55653, 55658, 55673, 55791, 55811, 55821,\n",
       "       55899, 55971, 56310, 56418, 56469, 56681, 56712, 56736, 56958,\n",
       "       57069, 57181, 57182, 57305, 57372, 57393, 57414, 57494, 57496,\n",
       "       57517, 57902, 57961, 58109, 58148, 58248, 58251, 58334, 58415,\n",
       "       58463, 58508, 58655, 58750, 58795, 58920, 59038, 59068, 59088,\n",
       "       59211, 59230, 59302, 59522, 59873, 59914])"
      ]
     },
     "execution_count": 5,
     "metadata": {},
     "output_type": "execute_result"
    }
   ],
   "source": [
    "clients_train_samples[1]"
   ]
  },
  {
   "cell_type": "markdown",
   "metadata": {},
   "source": [
    "Nous definissions ensuite l'architecture du modèle de chaque client. Il s'agit d'un modèle assez simple et avec peu de paramètres pour faciliter l'entraînement dans le cadre du TP.\n",
    "\n",
    "Nous allons utiliser le framework de deep learning `Pytorch` pour construire nos modèles. Voici quelques fonctions utiles pour le TP:\n",
    "* state_dict() : lorsque vous instanciez un modèle (de la classe `nn.Module`) `n=Net()`, vous pouvez accéder aux poids avec `n.state_dict()`. Il s'agira d'un dictionnaire dont les clés sont le nom des poids et les valeurs les poids.\n",
    "* load_state_dict() : vous pouvez également assigner des nouveaux poids à un réseau grâce à un dictionnaire de même architecture avec `n.load_state_dict(new_weights)`\n",
    "* Vous trouverez des optimiseurs classiques dans la classe `torch.optim.`. Pour réaliser une descente de gradient, vous pouvez par exemple utiliser `torch.optim.SGD(net.parameters(), lr=0.01)` où `net.parameters()` dont les paramètres du réseau que vous voulez optimiser avec un taux d'apprentissage de $0.01$\n",
    "* La fonction `.zero_grad()` d'une instanciation d'un optimiseur permet de \"mettre à zero\" les gradients de celui-ci. Avant chaque itération d'optimisation il faut l'appeler pour ne pas accumuler les gradients.\n",
    "* Pour obtenir la sortie d'un réseau `net` des entrées `data`, il suffit d'appeler `net(data)`.\n",
    "* Pour effectuer un entraînement il faut définir une fonction de perte. Avec le réseau que nous allons définir et vu qu'on est dans un problème de classification, vous pouvez utiliser la fonction de vraissemblance négative `F.nll_loss`.\n",
    "* Pour calculer les gradients par rapport aux poids d'une instanciation de fonction de perte `loss`, vous pouvez appeler `loss.backward()`.\n",
    "* Un optimiseur `optimizer` effectuera une mise à jour en appelant `optimizer.step()`."
   ]
  },
  {
   "cell_type": "code",
   "execution_count": 10,
   "metadata": {},
   "outputs": [],
   "source": [
    "# LeNet Model definition\n",
    "class Net(nn.Module):\n",
    "    def __init__(self):\n",
    "        super(Net, self).__init__()\n",
    "        self.conv1 = nn.Conv2d(1, 10, kernel_size=5)\n",
    "        self.conv2 = nn.Conv2d(10, 20, kernel_size=5)\n",
    "        self.conv2_drop = nn.Dropout2d()\n",
    "        self.fc1 = nn.Linear(320, 50)\n",
    "        self.fc2 = nn.Linear(50, 10)\n",
    "\n",
    "    def forward(self, x):\n",
    "        x = F.relu(F.max_pool2d(self.conv1(x), 2))\n",
    "        x = F.relu(F.max_pool2d(self.conv2_drop(self.conv2(x)), 2))\n",
    "        x = x.view(-1, 320)\n",
    "        x = F.relu(self.fc1(x))\n",
    "        x = F.dropout(x, training=self.training)\n",
    "        x = self.fc2(x)\n",
    "        return F.log_softmax(x, dim=1)"
   ]
  },
  {
   "cell_type": "markdown",
   "metadata": {},
   "source": [
    "Nous allons maintenant écrire l'algorithme `FedAvg`. En se reférant à [1], le pseudo-code est :  \n",
    "<img src=\"Capture3.png\" width=\"400\" height=\"200\">\n",
    "\n",
    "Cette fonction aura pour paramètres:\n",
    "* C : le pourcentage de clients échantillonés à chaque round\n",
    "* rounds : le nombre de rounds\n",
    "* E : le nombre d'epochs local\n",
    "* B : la taille des mini-batch locaux\n",
    "\n",
    "Pour l'instant, nous voulons uniquement écrire la dynamique fédérée qui se compose en 4 grandes parties :\n",
    "1. Le serveur initialize un modèle et l'envoie aux clients.\n",
    "2. Les clients reçoient le modèle et font un entraînement local chacun séparement.\n",
    "3. Chaque client envoie au serveur les poids de son modèle ainsi que le nombre de données locales.\n",
    "4. Le serveur fait ensuite une moyenne des poids pondérée par rapport au nombre de données locales. Il renvoie ensuite cette moyenne aux clients qui reprenent à l'étape (2). C'est le début d'un autre round.\n",
    "\n",
    "Nous allons écrire séparément une fonction `client_update` qui permettra de faire l'entraînement local."
   ]
  },
  {
   "cell_type": "code",
   "execution_count": 18,
   "metadata": {},
   "outputs": [],
   "source": [
    "def fed_avg(C, rounds, E, B):\n",
    "    # Variable pour mesurer le temps d'entraînement\n",
    "    t = time.time()\n",
    "    \n",
    "    # Initialisation\n",
    "    global_model = Net()\n",
    "    global_model_dict = global_model.state_dict()\n",
    "    \n",
    "    # Commencer l'entraînement par rounds\n",
    "    for r in range(rounds) :\n",
    "        # Dictionnaire dont les clés sont les mêmes que celles de global_model \n",
    "        # et les valeurs sont des matrices nulles de mêmes taille que celles de global model.\n",
    "        global_model_update = {k:torch.zeros_like(v) for k,v in global_model.state_dict().items()}\n",
    "        \n",
    "        # Selectionner des identifiants de clients aléatoirement. Vous pouvez utiliser random.sample\n",
    "        \n",
    "        \n",
    "        # Stocker le nombre de données des clients\n",
    "        clients_nks = []\n",
    "        \n",
    "        for client_id in selected:\n",
    "            # Envoyez le modèle au client\n",
    "            \n",
    "            \n",
    "            # Entraînement local du client. La fonction client_update peut être écrite à part, dans une autre cellule\n",
    "            nk, client_model = client_update(client_id, client_net, E, B)\n",
    "            \n",
    "            # Envoyer les poids et le nombre de données au serveur\n",
    "            clients_nks += [nk]\n",
    "            for w in global_model_update.keys():\n",
    "                global_model_update[w] += nk*client_model[w]\n",
    "        \n",
    "        # Faire la moyenne pondérée des poids reçus\n",
    "        \n",
    "        \n",
    "        # Définir la moyenne comme le nouveau modèle\n",
    "        global_model.load_state_dict(global_model_update)\n",
    "        \n",
    "    \n",
    "    print(\"Temps d'entraînement total: {}\".format(time.time()-t))\n",
    "\n",
    "    return accuracy"
   ]
  },
  {
   "cell_type": "markdown",
   "metadata": {},
   "source": [
    "Nous pouvons écrire une fonction `client_update` à part qui permettra de faire l'entraînement local par client. Le choix est libre, mais elle peut prendre comme arguments :\n",
    "* client_id : l'identifiant du client\n",
    "* client_net : le réseau que le client optimisera localement\n",
    "* E, B : les paramètres locaux de FedAvg\n",
    "\n",
    "La fonction devra retourner le nombre de données `nk`et le dictionnaire des poids du client."
   ]
  },
  {
   "cell_type": "code",
   "execution_count": 6,
   "metadata": {},
   "outputs": [],
   "source": [
    "def client_update(client_id, client_net, E, B):\n",
    "    \n",
    "    # Compteur des données \n",
    "    nk = 0\n",
    "    \n",
    "    # Définir le nombre de batchs\n",
    "    nb_batch = np.ceil(clients_train_samples[client_id].shape[0]/B)\n",
    "    \n",
    "    for epoch in range(E):\n",
    "        # Mélanger les indexes des données pour diminuer le biais de l'entraînement\n",
    "        random.shuffle(clients_train_samples[client_id])\n",
    "        \n",
    "        # Parcourir les données par batch\n",
    "        for batch in range(int(nb_batch)):\n",
    "            # Sélectionner les indices correspondant au batch courant\n",
    "            indices =\n",
    "            data = mnist_train.data[indices]\n",
    "            labels = mnist_train.targets[indices]\n",
    "            \n",
    "            # Ajouter le nombre de données au compteur\n",
    "            nk += \n",
    "            \n",
    "            # Optimisation du modèle\n",
    "            optimizer = \n",
    "            optimizer.zero_grad()\n",
    "            \n",
    "            output = \n",
    "            loss = \n",
    "            loss.backward()\n",
    "            optimizer.step()\n",
    "            \n",
    "    return nk, client_net.state_dict()"
   ]
  },
  {
   "cell_type": "markdown",
   "metadata": {},
   "source": [
    "Pour évaluer le modèle, il faut maintenat utiliser les données test. Etant donné que nous voulons construire un modèle global, nous devons évaluer le modèle pour tous les clients. Il n'est donc plus nécésaire de diviser les données test.\n",
    "\n",
    "La fonction suivante calcule la précision de `model` par rapport à toutes les données test. Vous pouvez l'incorporer à la fonction `fed_avg` pour pouvoir évaluer le modèle à chaque round. "
   ]
  },
  {
   "cell_type": "code",
   "execution_count": 53,
   "metadata": {},
   "outputs": [],
   "source": [
    "def fed_avg_testing(model):\n",
    "    with torch.no_grad():\n",
    "        model.eval()\n",
    "        outputs = model(mnist_test.data.unsqueeze(1).float())\n",
    "        pred = torch.argmax(outputs.data, dim=1)\n",
    "        correct = (pred == mnist_test.targets).sum().item()\n",
    "    total = mnist_test.targets.shape[0]\n",
    "    return correct / total"
   ]
  },
  {
   "cell_type": "markdown",
   "metadata": {},
   "source": [
    "Nous pouvons maintenant jouer sur les paramètres de l'algorithme. Pour que l'entraînement ne soit pas très long, vous pouvez garder `C=0.1` et `rounds<20`. Vous pouvez tester différentes valeurs de `E` et `B` pour voir quels seraient des paramètres convenables. N'oubliez pas de prendre en compte le temps d'entraînement également. "
   ]
  },
  {
   "cell_type": "code",
   "execution_count": 22,
   "metadata": {},
   "outputs": [
    {
     "name": "stdout",
     "output_type": "stream",
     "text": [
      "Temps d'entraînement total: 98.50118064880371\n",
      "Temps d'entraînement total: 168.97805094718933\n",
      "Temps d'entraînement total: 94.63739657402039\n",
      "Temps d'entraînement total: 352.25719356536865\n"
     ]
    },
    {
     "data": {
      "image/png": "[encoded data removed]",
      "text/plain": [
       "<Figure size 1080x576 with 1 Axes>"
      ]
     },
     "metadata": {
      "needs_background": "light"
     },
     "output_type": "display_data"
    }
   ],
   "source": [
    "# Visualistion\n",
    "rounds=20\n",
    "Es = [3, 5, 5, 10]\n",
    "Bs = [10, 10, 50, 10]\n",
    "cnt = 0\n",
    "plt.figure(figsize=(15,8))\n",
    "for e,b in zip(Es,Bs):\n",
    "    acc = fed_avg(C=0.1, rounds=rounds, E=e, B=b)\n",
    "    plt.plot(acc, label='E {}, B {}'.format(e,b))\n",
    "plt.xlabel('Rounds')\n",
    "plt.ylabel('Accuracy')\n",
    "plt.xticks(range(rounds), range(rounds))\n",
    "plt.legend()\n",
    "plt.show()"
   ]
  },
  {
   "cell_type": "markdown",
   "metadata": {},
   "source": [
    "## Pour aller plus loin : attaques byzantines\n",
    "\n",
    "Nous pouvons maintenant simuler des attaques byzantines. Au lieu d'envoyer leurs poids, certains clients malicieux enverront l'opposé pour dégrader le modèle.\n",
    "\n",
    "Créez une fonction `byz_attack` insipiré de `fed_avg` pour simuler cette attaque. Vous pouvez commencer l'entraînement avec un modèle bien entraîné (on suppose qu'on attaque un modèle déjà fonctionnel). Pour augmenter l'influence des clients malicieux, vous pouvez leur assigner une pondération plus grande (vous pouvez quantifier cela par une variable `boost` dans vos expériences)."
   ]
  },
  {
   "cell_type": "code",
   "execution_count": 62,
   "metadata": {},
   "outputs": [
    {
     "data": {
      "text/plain": [
       "<All keys matched successfully>"
      ]
     },
     "execution_count": 62,
     "metadata": {},
     "output_type": "execute_result"
    }
   ],
   "source": [
    "trained_model = Net()\n",
    "trained_model.load_state_dict(torch.load('trained_model.pth'))"
   ]
  },
  {
   "cell_type": "markdown",
   "metadata": {},
   "source": [
    "Ce modèle a une précision de $0.97$. Notre but sera donc de faire chuter cette performance"
   ]
  },
  {
   "cell_type": "code",
   "execution_count": 63,
   "metadata": {},
   "outputs": [
    {
     "data": {
      "text/plain": [
       "0.9695"
      ]
     },
     "execution_count": 63,
     "metadata": {},
     "output_type": "execute_result"
    }
   ],
   "source": [
    "fed_avg_testing(trained_model)"
   ]
  },
  {
   "cell_type": "code",
   "execution_count": null,
   "metadata": {},
   "outputs": [],
   "source": []
  }
 ],
 "metadata": {
  "kernelspec": {
   "display_name": "Python 3",
   "language": "python",
   "name": "python3"
  },
  "language_info": {
   "codemirror_mode": {
    "name": "ipython",
    "version": 3
   },
   "file_extension": ".py",
   "mimetype": "text/x-python",
   "name": "python",
   "nbconvert_exporter": "python",
   "pygments_lexer": "ipython3",
   "version": "3.8.3"
  },
  "latex_envs": {
   "LaTeX_envs_menu_present": true,
   "autoclose": false,
   "autocomplete": true,
   "bibliofile": "biblio.bib",
   "cite_by": "apalike",
   "current_citInitial": 1,
   "eqLabelWithNumbers": true,
   "eqNumInitial": 1,
   "hotkeys": {
    "equation": "Ctrl-E",
    "itemize": "Ctrl-I"
   },
   "labels_anchors": false,
   "latex_user_defs": false,
   "report_style_numbering": false,
   "user_envs_cfg": false
  }
 },
 "nbformat": 4,
 "nbformat_minor": 4
}
